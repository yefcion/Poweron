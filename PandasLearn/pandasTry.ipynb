{
 "nbformat": 4,
 "nbformat_minor": 2,
 "metadata": {
  "language_info": {
   "name": "python",
   "codemirror_mode": {
    "name": "ipython",
    "version": 3
   }
  },
  "orig_nbformat": 2,
  "file_extension": ".py",
  "mimetype": "text/x-python",
  "name": "python",
  "npconvert_exporter": "python",
  "pygments_lexer": "ipython3",
  "version": 3
 },
 "cells": [
  {
   "cell_type": "code",
   "execution_count": 1,
   "metadata": {},
   "outputs": [
    {
     "data": {
      "text/html": "<div>\n<style scoped>\n    .dataframe tbody tr th:only-of-type {\n        vertical-align: middle;\n    }\n\n    .dataframe tbody tr th {\n        vertical-align: top;\n    }\n\n    .dataframe thead th {\n        text-align: right;\n    }\n</style>\n<table border=\"1\" class=\"dataframe\">\n  <thead>\n    <tr style=\"text-align: right;\">\n      <th></th>\n      <th>account number</th>\n      <th>name</th>\n      <th>sku</th>\n      <th>quantity</th>\n      <th>unit price</th>\n      <th>ext price</th>\n      <th>date</th>\n    </tr>\n  </thead>\n  <tbody>\n    <tr>\n      <th>0</th>\n      <td>740150</td>\n      <td>Barton LLC</td>\n      <td>B1-20000</td>\n      <td>39</td>\n      <td>86.69</td>\n      <td>3380.91</td>\n      <td>2014-01-01 07:21:51</td>\n    </tr>\n    <tr>\n      <th>1</th>\n      <td>714466</td>\n      <td>Trantow-Barrows</td>\n      <td>S2-77896</td>\n      <td>-1</td>\n      <td>63.16</td>\n      <td>-63.16</td>\n      <td>2014-01-01 10:00:47</td>\n    </tr>\n    <tr>\n      <th>2</th>\n      <td>218895</td>\n      <td>Kulas Inc</td>\n      <td>B1-69924</td>\n      <td>23</td>\n      <td>90.70</td>\n      <td>2086.10</td>\n      <td>2014-01-01 13:24:58</td>\n    </tr>\n    <tr>\n      <th>3</th>\n      <td>307599</td>\n      <td>Kassulke, Ondricka and Metz</td>\n      <td>S1-65481</td>\n      <td>41</td>\n      <td>21.05</td>\n      <td>863.05</td>\n      <td>2014-01-01 15:05:22</td>\n    </tr>\n    <tr>\n      <th>4</th>\n      <td>412290</td>\n      <td>Jerde-Hilpert</td>\n      <td>S2-34077</td>\n      <td>6</td>\n      <td>83.21</td>\n      <td>499.26</td>\n      <td>2014-01-01 23:26:55</td>\n    </tr>\n  </tbody>\n</table>\n</div>",
      "text/plain": "   account number                         name       sku  quantity  \\\n0          740150                   Barton LLC  B1-20000        39   \n1          714466              Trantow-Barrows  S2-77896        -1   \n2          218895                    Kulas Inc  B1-69924        23   \n3          307599  Kassulke, Ondricka and Metz  S1-65481        41   \n4          412290                Jerde-Hilpert  S2-34077         6   \n\n   unit price  ext price                 date  \n0       86.69    3380.91  2014-01-01 07:21:51  \n1       63.16     -63.16  2014-01-01 10:00:47  \n2       90.70    2086.10  2014-01-01 13:24:58  \n3       21.05     863.05  2014-01-01 15:05:22  \n4       83.21     499.26  2014-01-01 23:26:55  "
     },
     "execution_count": 1,
     "metadata": {},
     "output_type": "execute_result"
    }
   ],
   "source": [
    "import pandas as pd\n",
    "import matplotlib.pyplot as plt\n",
    "from matplotlib.ticker import FuncFormatter\n",
    "\n",
    "xlsxFile = \"data/sample-salesv3.xlsx\"\n",
    "\n",
    "df = pd.read_excel(io = xlsxFile)\n",
    "\n",
    "df.head() "
   ]
  },
  {
   "cell_type": "code",
   "execution_count": null,
   "metadata": {},
   "outputs": [],
   "source": []
  }
 ]
}